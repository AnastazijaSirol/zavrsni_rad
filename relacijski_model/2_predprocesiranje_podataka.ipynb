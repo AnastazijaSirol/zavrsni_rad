{
 "cells": [
  {
   "cell_type": "code",
   "execution_count": null,
   "metadata": {},
   "outputs": [
    {
     "name": "stdout",
     "output_type": "stream",
     "text": [
      "CSV size before:  (50000, 21)\n"
     ]
    }
   ],
   "source": [
    "import pandas as pd\n",
    "\n",
    "# Učitavanje skupa podataka\n",
    "CSV_FILE_PATH = \"C:/Users/Pc/Desktop/6_semestar/SRP/synthetic_fraud_dataset.csv\"\n",
    "\n",
    "df = pd.read_csv(CSV_FILE_PATH, delimiter=',')\n",
    "print(\"CSV size before: \", df.shape)"
   ]
  },
  {
   "cell_type": "code",
   "execution_count": null,
   "metadata": {},
   "outputs": [
    {
     "name": "stdout",
     "output_type": "stream",
     "text": [
      "CSV size after:  (50000, 21)\n",
      "  transaction_id    user_id  transaction_amount transaction_type  \\\n",
      "0      TXN_33553  USER_1834               39.79              POS   \n",
      "1       TXN_9427  USER_7875                1.19    Bank Transfer   \n",
      "2        TXN_199  USER_2734               28.96           Online   \n",
      "3      TXN_12447  USER_2617              254.32   ATM Withdrawal   \n",
      "4      TXN_39489  USER_2014               31.28              POS   \n",
      "\n",
      "             timestamp  account_balance device_type  location  \\\n",
      "0  2023-08-14 19:30:00         93213.17      Laptop    Sydney   \n",
      "1  2023-06-07 04:01:00         75725.25      Mobile  New York   \n",
      "2  2023-06-20 15:25:00          1588.96      Tablet    Mumbai   \n",
      "3  2023-12-07 00:31:00         76807.20      Tablet  New York   \n",
      "4  2023-11-11 23:44:00         92354.66      Mobile    Mumbai   \n",
      "\n",
      "  merchant_category  ip_address_flag  ...  daily_transaction_count  \\\n",
      "0            Travel                0  ...                        7   \n",
      "1          Clothing                0  ...                       13   \n",
      "2       Restaurants                0  ...                       14   \n",
      "3          Clothing                0  ...                        8   \n",
      "4       Electronics                0  ...                       14   \n",
      "\n",
      "   avg_transaction_amount_7d  failed_transaction_count_7d   card_type  \\\n",
      "0                     437.63                            3        Amex   \n",
      "1                     478.76                            4  Mastercard   \n",
      "2                      50.01                            4        Visa   \n",
      "3                     182.48                            4        Visa   \n",
      "4                     328.69                            4  Mastercard   \n",
      "\n",
      "  card_age  transaction_distance  authentication_method risk_score  \\\n",
      "0       65                883.17              Biometric     0.8494   \n",
      "1      186               2203.36               Password     0.0959   \n",
      "2      226               1909.29              Biometric     0.8400   \n",
      "3       76               1311.86                    OTP     0.7935   \n",
      "4      140                966.98               Password     0.3819   \n",
      "\n",
      "   is_weekend  fraud_label  \n",
      "0           0            0  \n",
      "1           0            1  \n",
      "2           0            1  \n",
      "3           0            1  \n",
      "4           1            1  \n",
      "\n",
      "[5 rows x 21 columns]\n"
     ]
    }
   ],
   "source": [
    "df = df.dropna() # Brisanje redaka s nedostajućim vrijednostima (zapravo ih nema)\n",
    "df.columns = df.columns.str.lower() # Osiguravanje da su nazivi stupaca pisani malim slovima\n",
    "df.columns = df.columns.str.replace(' ', '_') # Osiguravanje da nazivi stupaca nemaju razmake već \"_\"\n",
    "print(\"CSV size after: \", df.shape)\n",
    "print(df.head())"
   ]
  },
  {
   "cell_type": "code",
   "execution_count": null,
   "metadata": {},
   "outputs": [
    {
     "name": "stdout",
     "output_type": "stream",
     "text": [
      "CSV size 80:  (40000, 21)\n",
      "CSV size 20:  (10000, 21)\n"
     ]
    }
   ],
   "source": [
    "# Dijeljenje skupa podataka na dva dijela (80:20)\n",
    "df20 = df.sample(frac=0.2, random_state=1)\n",
    "df = df.drop(df20.index)\n",
    "print(\"CSV size 80: \", df.shape)\n",
    "print(\"CSV size 20: \", df20.shape)"
   ]
  },
  {
   "cell_type": "code",
   "execution_count": null,
   "metadata": {},
   "outputs": [],
   "source": [
    "# Spremanje predprocesiranog skupa podataka podijeljenog na dva dijela u dvije nove .CSV datoteke\n",
    "df.to_csv(\"C:/Users/Pc/Desktop/6_semestar/SRP/synthetic_fraud_dataset_PROCESSED.csv\", index=False) \n",
    "df20.to_csv(\"C:/Users/Pc/Desktop/6_semestar/SRP/synthetic_fraud_dataset_PROCESSED_20.csv\", index=False) "
   ]
  }
 ],
 "metadata": {
  "kernelspec": {
   "display_name": "Python 3",
   "language": "python",
   "name": "python3"
  },
  "language_info": {
   "codemirror_mode": {
    "name": "ipython",
    "version": 3
   },
   "file_extension": ".py",
   "mimetype": "text/x-python",
   "name": "python",
   "nbconvert_exporter": "python",
   "pygments_lexer": "ipython3",
   "version": "3.13.2"
  }
 },
 "nbformat": 4,
 "nbformat_minor": 2
}
